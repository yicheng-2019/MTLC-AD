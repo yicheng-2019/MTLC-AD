{
 "cells": [
  {
   "cell_type": "code",
   "execution_count": 2,
   "id": "9362d439",
   "metadata": {},
   "outputs": [
    {
     "name": "stderr",
     "output_type": "stream",
     "text": [
      "/home/yanai-lab/qiu-y/miniconda3/envs/vad/lib/python3.9/site-packages/tqdm/auto.py:21: TqdmWarning: IProgress not found. Please update jupyter and ipywidgets. See https://ipywidgets.readthedocs.io/en/stable/user_install.html\n",
      "  from .autonotebook import tqdm as notebook_tqdm\n"
     ]
    }
   ],
   "source": [
    "import logging\n",
    "from datetime import datetime\n",
    "import torch\n",
    "import numpy as np\n",
    "import pandas as pd\n",
    "import random\n",
    "import torch.nn as nn\n",
    "import torch.nn.functional as F\n",
    "from tqdm import tqdm\n",
    "from torch.utils.data import DataLoader\n",
    "from torch.optim.lr_scheduler import MultiStepLR\n",
    "\n",
    "from model import VADModel\n",
    "from ucf_test import test\n",
    "# from utils.dataset import UCFDataset\n",
    "from utils.tools import get_prompt_text, get_batch_label\n",
    "import ucf_option"
   ]
  },
  {
   "cell_type": "code",
   "execution_count": null,
   "id": "4c1e3c4e",
   "metadata": {},
   "outputs": [
    {
     "name": "stdout",
     "output_type": "stream",
     "text": [
      "class num: 14\n"
     ]
    }
   ],
   "source": [
    "# 配置变量\n",
    "gt_path = './data/ucf_gt.json'\n",
    "video_feature_list = 'list/ucf_CLIP_rgbtest.csv'\n",
    "gt_txt = 'list/Temporal_Anomaly_Annotation.txt' # ucf的gt文件,介绍了动作区间\n",
    "\n",
    "# 类别名称汇总\n",
    "label_map = {\n",
    "        'Normal': 'normal',\n",
    "        'Abuse': 'abuse',\n",
    "        'Arrest': 'arrest',\n",
    "        'Arson': 'arson',\n",
    "        'Assault': 'assault',\n",
    "        'Burglary': 'burglary',\n",
    "        'Explosion': 'explosion',\n",
    "        'Fighting': 'fighting',\n",
    "        'RoadAccidents': 'roadAccidents',\n",
    "        'Robbery': 'robbery',\n",
    "        'Shooting': 'shooting',\n",
    "        'Shoplifting': 'shoplifting',\n",
    "        'Stealing': 'stealing',\n",
    "        'Vandalism': 'vandalism'\n",
    "    }\n",
    "\n",
    "batch_size = 64\n",
    "\n",
    "visual_length = 256   # 每个视频特征的时序长度\n",
    "\n",
    "train_list = 'list/ucf_CLIP_rgb_yanai.csv'  # 训练集列表，包含了地址与标签\n",
    "test_list = 'list/ucf_CLIP_rgbtest_yanai.csv'   # 测试集列表，包含了地址与标签\n",
    "\n",
    "\n"
   ]
  },
  {
   "cell_type": "code",
   "execution_count": 4,
   "id": "5b732b35",
   "metadata": {},
   "outputs": [],
   "source": [
    "# 读取 gt\n",
    "gt = np.load(\"list/gt_ucf.npy\")  # 每个特征文件的时序维度 * 16 * 文件数（290）\n",
    "\n",
    "# 读取 gt_segment 和 gt_label,这两个用于mAP计算\n",
    "gtsegments = np.load('list/gt_segment_ucf.npy', allow_pickle=True)  # 仅表示每个文件中标签所在的时序区间，比如异常动作在哪一段中，如果是正常，那就是全部\n",
    "\n",
    "gtlabels = np.load('list/gt_label_ucf.npy', allow_pickle=True) # 每个文件的类别名称，如果是正常就是A\n",
    "\n"
   ]
  },
  {
   "cell_type": "code",
   "execution_count": 5,
   "id": "408d1384",
   "metadata": {},
   "outputs": [],
   "source": [
    "import torch.utils.data as data\n",
    "\n",
    "def get_prompt_text(label_map: dict):\n",
    "    prompt_text = []\n",
    "    for v in label_map.values():\n",
    "        prompt_text.append(v)\n",
    "\n",
    "    return prompt_text\n",
    "\n",
    "\n",
    "def process_feat(feat, length, is_random=False):\n",
    "    clip_length = feat.shape[0]\n",
    "    if feat.shape[0] > length:\n",
    "        if is_random:\n",
    "            return random_extract(feat, length), length\n",
    "        else:\n",
    "            return uniform_extract(feat, length), length\n",
    "    else:\n",
    "        return pad(feat, length), clip_length\n",
    "    \n",
    "\n",
    "def process_split(feat, length):\n",
    "    clip_length = feat.shape[0]\n",
    "    if clip_length < length:\n",
    "        return pad(feat, length), clip_length\n",
    "    else:\n",
    "        split_num = int(clip_length / length) + 1\n",
    "        for i in range(split_num):\n",
    "            if i == 0:\n",
    "                split_feat = feat[i*length:i*length+length, :].reshape(1, length, feat.shape[1])\n",
    "            elif i < split_num - 1:\n",
    "                split_feat = np.concatenate([split_feat, feat[i*length:i*length+length, :].reshape(1, length, feat.shape[1])], axis=0)\n",
    "            else:\n",
    "                split_feat = np.concatenate([split_feat, pad(feat[i*length:i*length+length, :], length).reshape(1, length, feat.shape[1])], axis=0)\n",
    "\n",
    "        return split_feat, clip_length\n",
    "    \n",
    "\n",
    "class UCFDataset(data.Dataset):\n",
    "    def __init__(self, clip_dim: int, file_path: str, test_mode: bool, label_map: dict, normal: bool = False):\n",
    "        self.df = pd.read_csv(file_path)\n",
    "        self.clip_dim = clip_dim\n",
    "        self.test_mode = test_mode\n",
    "        self.label_map = label_map\n",
    "        self.normal = normal\n",
    "        if normal == True and test_mode == False:\n",
    "            self.df = self.df.loc[self.df['label'] == 'Normal']\n",
    "            self.df = self.df.reset_index()\n",
    "        elif test_mode == False:\n",
    "            self.df = self.df.loc[self.df['label'] != 'Normal']\n",
    "            self.df = self.df.reset_index()\n",
    "        \n",
    "    def __len__(self):\n",
    "        return self.df.shape[0]\n",
    "\n",
    "    def __getitem__(self, index):\n",
    "        clip_feature = np.load(self.df.loc[index]['path'])\n",
    "        if self.test_mode == False:\n",
    "            clip_feature, clip_length = process_feat(clip_feature, self.clip_dim)\n",
    "        else:\n",
    "            clip_feature, clip_length = process_split(clip_feature, self.clip_dim)\n",
    "\n",
    "        clip_feature = torch.tensor(clip_feature)\n",
    "        clip_label = self.df.loc[index]['label']\n",
    "        return clip_feature, clip_label, clip_length"
   ]
  },
  {
   "cell_type": "code",
   "execution_count": 13,
   "id": "7ad39a47",
   "metadata": {},
   "outputs": [
    {
     "name": "stdout",
     "output_type": "stream",
     "text": [
      "len(normal_dataset): 8000, len(anomaly_dataset): 8100, len(test_dataset): 290\n"
     ]
    }
   ],
   "source": [
    "# 训练集正常部分\n",
    "normal_dataset = UCFDataset(clip_dim=visual_length, file_path=train_list, test_mode=False, label_map=label_map, normal=True)\n",
    "normal_loader = DataLoader(normal_dataset, batch_size=batch_size, shuffle=True, drop_last=True)\n",
    "\n",
    "# 训练集异常部分\n",
    "anomaly_dataset = UCFDataset(clip_dim=visual_length, file_path=train_list, test_mode=False, label_map=label_map, normal=False)\n",
    "anomaly_loader = DataLoader(anomaly_dataset, batch_size=batch_size, shuffle=True, drop_last=True)\n",
    "\n",
    "# 测试集\n",
    "test_dataset = UCFDataset(clip_dim=visual_length, file_path=test_list, test_mode=True, label_map=label_map)\n",
    "test_loader = DataLoader(test_dataset, batch_size=1, shuffle=False)\n",
    "\n",
    "print(f'len(normal_dataset): {len(normal_dataset)}, len(anomaly_dataset): {len(anomaly_dataset)}, len(test_dataset): {len(test_dataset)}')\n"
   ]
  },
  {
   "cell_type": "code",
   "execution_count": null,
   "id": "9a22a033",
   "metadata": {},
   "outputs": [],
   "source": [
    "# 构建模型\n",
    "cls_num = len(label_map)  # 类别数量\n",
    "embed_dim = 512  # 特征维度\n",
    "visual_width = 512 # 每个时间步的视觉特征维度\n",
    "visual_head = 1  # 视觉特征的头数\n",
    "prompt_prefix = 10  # prompt增强维度\n",
    "\n",
    "\n",
    "model = VADModel(\n",
    "    cls_num,\n",
    "    embed_dim,\n",
    "    visual_length,\n",
    "    visual_width,\n",
    "    prompt_prefix,\n",
    ")"
   ]
  }
 ],
 "metadata": {
  "kernelspec": {
   "display_name": "vad",
   "language": "python",
   "name": "python3"
  },
  "language_info": {
   "codemirror_mode": {
    "name": "ipython",
    "version": 3
   },
   "file_extension": ".py",
   "mimetype": "text/x-python",
   "name": "python",
   "nbconvert_exporter": "python",
   "pygments_lexer": "ipython3",
   "version": "3.9.23"
  }
 },
 "nbformat": 4,
 "nbformat_minor": 5
}
